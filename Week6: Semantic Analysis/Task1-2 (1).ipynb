{
 "cells": [
  {
   "cell_type": "markdown",
   "id": "3434da91",
   "metadata": {},
   "source": [
    "## Task1 : Programming Lines Identificator"
   ]
  },
  {
   "cell_type": "markdown",
   "id": "5d59aa66",
   "metadata": {},
   "source": [
    "### C++ Program Snippet"
   ]
  },
  {
   "cell_type": "code",
   "execution_count": null,
   "id": "c53fc64a",
   "metadata": {},
   "outputs": [],
   "source": [
    "#include <iostream>\n",
    "#include <fstream>\n",
    "#include <string>\n",
    "\n",
    "using namespace std; \n",
    "\n",
    "bool isSingleLineComment(const string& line) {\n",
    "    return (line.find(\"//\") == 0);\n",
    "}\n",
    "\n",
    "bool isMultiLineCommentStart(const string& line) {\n",
    "    return (line.find(\"/*\") == 0);\n",
    "}\n",
    "\n",
    "bool isMultiLineCommentEnd(const string& line) {\n",
    "    return (line.find(\"*/\") != string::npos);\n",
    "}\n",
    "\n",
    "int main() {\n",
    "    string filename = \"example.cpp\"; \n",
    "    ifstream file(filename);\n",
    "\n",
    "    if (!file.is_open()) {\n",
    "        cerr << \"Error: Unable to open file.\" << endl;\n",
    "        return 1;\n",
    "    }\n",
    "\n",
    "    string line;\n",
    "    bool insideMultiLineComment = false;\n",
    "\n",
    "    while (getline(file, line)) {\n",
    "        if (insideMultiLineComment) {\n",
    "            if (isMultiLineCommentEnd(line)) {\n",
    "                insideMultiLineComment = false;\n",
    "            }\n",
    "        } else {\n",
    "            if (isSingleLineComment(line)) {\n",
    "                cout << \"Comment: \" << line << endl;\n",
    "            } else if (isMultiLineCommentStart(line)) {\n",
    "                insideMultiLineComment = true;\n",
    "                cout << \"Comment: \" << line << endl;\n",
    "            } else {\n",
    "                cout << \"Code: \" << line << endl;\n",
    "            }\n",
    "        }\n",
    "    }\n",
    "\n",
    "    file.close();\n",
    "    return 0;\n",
    "}\n"
   ]
  },
  {
   "cell_type": "markdown",
   "id": "e7b5cc69",
   "metadata": {},
   "source": [
    "### Logic Used"
   ]
  },
  {
   "cell_type": "markdown",
   "id": "3fc5960f",
   "metadata": {},
   "source": [
    "Assume we have a file named example.cpp and we want to indentify comments from actual code within that file.\n",
    "This can be done by scanning each line of the input file and using three functions to determine the line's type: "
   ]
  },
  {
   "cell_type": "markdown",
   "id": "878c08ff",
   "metadata": {},
   "source": [
    "**isSingleLineComment** checks for single-line comments (starting with \"//\"), \n",
    "\n",
    "**isMultiLineCommentStart** identifies the start of multi-line comments (beginning with \"/*\"), and\n",
    "\n",
    "**isMultiLineCommentEnd** identifies the end of multi-line comments (ending with \"*/\"). "
   ]
  },
  {
   "cell_type": "markdown",
   "id": "0ccb94b6",
   "metadata": {},
   "source": [
    "The code maintains a boolean flag to track whether it's currently inside a multi-line comment. For each line, it prints \"Comment\" and the comment content if it's a comment, or \"Code\" and the code content if it's not a comment. "
   ]
  },
  {
   "cell_type": "markdown",
   "id": "f0bde739",
   "metadata": {},
   "source": [
    "### On Syntax/Lexical Analysis in the Logic"
   ]
  },
  {
   "cell_type": "markdown",
   "id": "8221361e",
   "metadata": {},
   "source": [
    "Eventhough syntax and lexical analysis are not explicitedly implemented in the logic, their concepts are relevant to the logic implemented. Tokenization can be seen in this case as the categorizing programming lines as either code or comment based on specific characters (playing the role of RegEx).\n",
    "\n",
    "The code focuses on a simpler task of categorizing lines as code or comments based on basic patterns without performing a deep analysis of the code's structure or tokens. "
   ]
  },
  {
   "cell_type": "markdown",
   "id": "0b49f02a",
   "metadata": {},
   "source": [
    "## Task 2: Indentifier Validator "
   ]
  },
  {
   "cell_type": "markdown",
   "id": "9887c9a3",
   "metadata": {},
   "source": [
    "### C++ Program Snippet"
   ]
  },
  {
   "cell_type": "code",
   "execution_count": null,
   "id": "bdf45947",
   "metadata": {},
   "outputs": [],
   "source": [
    "#include <iostream>\n",
    "#include <string>\n",
    "#include <cctype>\n",
    "\n",
    "using namespace std;\n",
    "\n",
    "bool isValidIdentifier(const string& identifier) {\n",
    "    if (identifier.empty() || isdigit(identifier[0])) {\n",
    "        return false;\n",
    "    }\n",
    "\n",
    "    for (char c : identifier) {\n",
    "        if (!isalnum(c) && c != '_') {\n",
    "            return false;\n",
    "        }\n",
    "    }\n",
    "\n",
    "    return true;\n",
    "}\n",
    "\n",
    "int main() {\n",
    "    string input;\n",
    "    cout << \"Enter an identifier: \";\n",
    "    cin >> input;\n",
    "\n",
    "    if (isValidIdentifier(input)) {\n",
    "        cout << \"Valid identifier: \" << input << endl;\n",
    "    } else {\n",
    "        cout << \"Invalid identifier: \" << input << endl;\n",
    "    }\n",
    "\n",
    "    return 0;\n",
    "}\n"
   ]
  }
 ],
 "metadata": {
  "kernelspec": {
   "display_name": "C++17",
   "language": "C++17",
   "name": "xcpp17"
  },
  "language_info": {
   "codemirror_mode": {
    "name": "ipython",
    "version": 3
   },
   "file_extension": ".py",
   "mimetype": "text/x-python",
   "name": "python",
   "nbconvert_exporter": "python",
   "pygments_lexer": "ipython3",
   "version": "3.10.12"
  }
 },
 "nbformat": 4,
 "nbformat_minor": 5
}
