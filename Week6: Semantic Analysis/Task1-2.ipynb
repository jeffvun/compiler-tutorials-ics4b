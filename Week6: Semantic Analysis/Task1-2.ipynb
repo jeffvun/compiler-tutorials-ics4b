{
 "cells": [
  {
   "cell_type": "markdown",
   "source": [
    "## Programming Lines Identification"
   ],
   "metadata": {
    "collapsed": false
   },
   "id": "5f038e7c9f39c68a"
  },
  {
   "cell_type": "markdown",
   "source": [
    "# Program Snippet"
   ],
   "metadata": {
    "collapsed": false
   },
   "id": "1858969f07469614"
  },
  {
   "cell_type": "code",
   "execution_count": null,
   "outputs": [],
   "source": [],
   "metadata": {
    "collapsed": false
   },
   "id": "680b73fbf03a10f1"
  },
  {
   "cell_type": "markdown",
   "source": [
    "# Logic Used"
   ],
   "metadata": {
    "collapsed": false
   },
   "id": "f4b3f3bb1dfa5fb1"
  },
  {
   "cell_type": "markdown",
   "source": [],
   "metadata": {
    "collapsed": false
   },
   "id": "2e5dabd6b2e1513c"
  },
  {
   "cell_type": "markdown",
   "source": [
    "# Lexical and Syntax Analysis Concepts Applied"
   ],
   "metadata": {
    "collapsed": false
   },
   "id": "84d44880940f6204"
  },
  {
   "cell_type": "markdown",
   "source": [],
   "metadata": {
    "collapsed": false
   },
   "id": "9cc9b15114958d39"
  },
  {
   "cell_type": "markdown",
   "source": [
    "## Identifier Validator Implementation"
   ],
   "metadata": {
    "collapsed": false
   },
   "id": "dbd75d7b5a0b6c9c"
  },
  {
   "cell_type": "markdown",
   "source": [
    "# Program Snippet"
   ],
   "metadata": {
    "collapsed": false
   },
   "id": "a6c56f03745c04a8"
  },
  {
   "cell_type": "code",
   "execution_count": null,
   "outputs": [],
   "source": [],
   "metadata": {
    "collapsed": false
   },
   "id": "d89a68b6f7b70dbd"
  }
 ],
 "metadata": {
  "kernelspec": {
   "display_name": "Python 3",
   "language": "python",
   "name": "python3"
  },
  "language_info": {
   "codemirror_mode": {
    "name": "ipython",
    "version": 2
   },
   "file_extension": ".py",
   "mimetype": "text/x-python",
   "name": "python",
   "nbconvert_exporter": "python",
   "pygments_lexer": "ipython2",
   "version": "2.7.6"
  }
 },
 "nbformat": 4,
 "nbformat_minor": 5
}
